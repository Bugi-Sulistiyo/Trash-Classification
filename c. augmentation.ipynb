{
 "cells": [
  {
   "cell_type": "code",
   "execution_count": 18,
   "metadata": {},
   "outputs": [],
   "source": [
    "import os\n",
    "import utilities as ut\n",
    "import matplotlib.pyplot as plt\n",
    "\n",
    "from tensorflow.keras.preprocessing.image import ImageDataGenerator"
   ]
  },
  {
   "cell_type": "code",
   "execution_count": 27,
   "metadata": {},
   "outputs": [],
   "source": [
    "path_trainset = \"./dataset/splited_dataset/train\"\n",
    "path_aug = \"./dataset/augmented_dataset\"\n",
    "labels = os.listdir(path_trainset)"
   ]
  },
  {
   "cell_type": "code",
   "execution_count": 21,
   "metadata": {},
   "outputs": [],
   "source": [
    "traingen = ImageDataGenerator(\n",
    "    rotation_range=20,\n",
    "    width_shift_range=0.2,\n",
    "    height_shift_range=0.2,\n",
    "    shear_range=0.2,\n",
    "    horizontal_flip=True,\n",
    "    vertical_flip=True,\n",
    "    rescale=1./255,\n",
    ")"
   ]
  },
  {
   "cell_type": "code",
   "execution_count": 32,
   "metadata": {},
   "outputs": [
    {
     "name": "stdout",
     "output_type": "stream",
     "text": [
      "Found 322 images belonging to 1 classes.\n"
     ]
    },
    {
     "name": "stdout",
     "output_type": "stream",
     "text": [
      "cardboard augmented images\n",
      "Found 401 images belonging to 1 classes.\n",
      "glass augmented images\n",
      "Found 328 images belonging to 1 classes.\n",
      "metal augmented images\n",
      "Found 475 images belonging to 1 classes.\n",
      "paper augmented images\n",
      "Found 385 images belonging to 1 classes.\n",
      "plastic augmented images\n",
      "Found 110 images belonging to 1 classes.\n",
      "trash augmented images\n"
     ]
    }
   ],
   "source": [
    "for label in labels:\n",
    "    os.makedirs(os.path.join(path_aug, 'train', label), exist_ok=True)\n",
    "    \n",
    "    trainset = traingen.flow_from_directory(\n",
    "        path_trainset,\n",
    "        target_size=(224, 224),\n",
    "        batch_size=32,\n",
    "        classes=[label],\n",
    "        class_mode='categorical',\n",
    "        save_to_dir=f'./dataset/augmented_dataset/train/{label}',\n",
    "        save_prefix=f'augmented_{label}',\n",
    "        save_format='jpeg',\n",
    "    )\n",
    "    exit_trigger = len(trainset) * 6\n",
    "    for batch_count, batched in enumerate(trainset):\n",
    "        if batch_count+1 == exit_trigger:\n",
    "            break\n",
    "    print(f'{label} augmented images')"
   ]
  }
 ],
 "metadata": {
  "kernelspec": {
   "display_name": "ml_venv_3.11",
   "language": "python",
   "name": "python3"
  },
  "language_info": {
   "codemirror_mode": {
    "name": "ipython",
    "version": 3
   },
   "file_extension": ".py",
   "mimetype": "text/x-python",
   "name": "python",
   "nbconvert_exporter": "python",
   "pygments_lexer": "ipython3",
   "version": "3.11.9"
  }
 },
 "nbformat": 4,
 "nbformat_minor": 2
}
