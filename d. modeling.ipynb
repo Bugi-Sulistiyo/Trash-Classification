{
 "cells": [
  {
   "cell_type": "code",
   "execution_count": 27,
   "metadata": {},
   "outputs": [],
   "source": [
    "import os\n",
    "import wandb\n",
    "\n",
    "import pandas as pd\n",
    "import tensorflow as tf\n",
    "\n",
    "from huggingface_hub import HfApi, HfFolder\n",
    "from tensorflow.keras.models import Sequential\n",
    "from tensorflow.keras.layers import Dense, Conv2D, MaxPool2D, Flatten, BatchNormalization\n",
    "from tensorflow.keras.optimizers import Adam, SGD, RMSprop, Adamax\n",
    "from tensorflow.keras.callbacks import Callback"
   ]
  },
  {
   "cell_type": "code",
   "execution_count": 2,
   "metadata": {},
   "outputs": [],
   "source": [
    "path_dataset = {\n",
    "    \"train\": \"./dataset/splited_dataset/train\",\n",
    "    \"test\": \"./dataset/splited_dataset/test\",\n",
    "}\n",
    "hyperparameters = {\n",
    "    \"augmentation\": False,\n",
    "    \"image_size\": (128, 128),\n",
    "    \"batch_size\": 32,\n",
    "    \"epochs\": 10,\n",
    "    \"learning_rate\": None,\n",
    "    \"optimizer\": \"adam\",\n",
    "    \"loss\": \"sparse_categorical_crossentropy\",\n",
    "    \"metrics\": [\"accuracy\"],\n",
    "}\n",
    "optimizer_map = {\n",
    "    \"adam\": Adam(),\n",
    "    \"sgd\": SGD(),\n",
    "    \"rmsprop\": RMSprop(),\n",
    "    \"adamax\": Adamax(),\n",
    "}\n",
    "labels = os.listdir(path_dataset[\"train\"])"
   ]
  },
  {
   "cell_type": "code",
   "execution_count": 13,
   "metadata": {},
   "outputs": [],
   "source": [
    "def get_imgs_path(path:str, labels:list=labels):\n",
    "    imgs_path = {\"img_path\": [], \"label\": []}\n",
    "    for label in labels:\n",
    "        imgs_path[\"img_path\"] += [os.path.join(path, label, file) for file in os.listdir(os.path.join(path, label))]\n",
    "        imgs_path[\"label\"] += [label for _ in range(len(os.listdir(os.path.join(path, label))))]\n",
    "    imgs_path = pd.DataFrame(imgs_path)\n",
    "    imgs_path[\"label\"] = imgs_path[\"label\"].map({label: i for i, label in enumerate(labels)})\n",
    "    return pd.DataFrame(imgs_path)"
   ]
  },
  {
   "cell_type": "code",
   "execution_count": 4,
   "metadata": {},
   "outputs": [],
   "source": [
    "def load_img(path:str, label:str, image_size:tuple=hyperparameters[\"image_size\"]):\n",
    "    img = tf.io.read_file(path)\n",
    "    img = tf.image.decode_jpeg(img, channels=3)\n",
    "    img = tf.image.resize(img, image_size)\n",
    "    img = tf.cast(img, tf.float32) / 255.\n",
    "    return img, label"
   ]
  },
  {
   "cell_type": "code",
   "execution_count": 15,
   "metadata": {},
   "outputs": [],
   "source": [
    "path_imgs_train = get_imgs_path(path_dataset[\"train\"])\n",
    "path_imgs_test = get_imgs_path(path_dataset[\"test\"])"
   ]
  },
  {
   "cell_type": "code",
   "execution_count": 16,
   "metadata": {},
   "outputs": [],
   "source": [
    "trainset = tf.data.Dataset.from_tensor_slices((path_imgs_train[\"img_path\"], path_imgs_train[\"label\"]))\n",
    "trainset = trainset.map(load_img)\n",
    "trainset = trainset.shuffle(len(path_imgs_train)).batch(32)\n",
    "\n",
    "testset = tf.data.Dataset.from_tensor_slices((path_imgs_test[\"img_path\"], path_imgs_test[\"label\"]))\n",
    "testset = testset.map(load_img)\n",
    "testset = testset.shuffle(len(path_imgs_test)).batch(32)"
   ]
  },
  {
   "cell_type": "code",
   "execution_count": 17,
   "metadata": {},
   "outputs": [
    {
     "name": "stdout",
     "output_type": "stream",
     "text": [
      "(32, 128, 128, 3) (32,)\n",
      "tf.Tensor(4, shape=(), dtype=int64)\n"
     ]
    }
   ],
   "source": [
    "for img, label in testset.take(1):\n",
    "    print(img.shape, label.shape)\n",
    "    print(label[0])"
   ]
  },
  {
   "cell_type": "code",
   "execution_count": 18,
   "metadata": {},
   "outputs": [
    {
     "name": "stderr",
     "output_type": "stream",
     "text": [
      "\u001b[34m\u001b[1mwandb\u001b[0m: Using wandb-core as the SDK backend. Please refer to https://wandb.me/wandb-core for more information.\n",
      "\u001b[34m\u001b[1mwandb\u001b[0m: Currently logged in as: \u001b[33mbugi-sulistiyo\u001b[0m (\u001b[33mbugi-sulistiyo-universitas-mulawarman\u001b[0m). Use \u001b[1m`wandb login --relogin`\u001b[0m to force relogin\n"
     ]
    },
    {
     "data": {
      "text/html": [
       "Tracking run with wandb version 0.18.5"
      ],
      "text/plain": [
       "<IPython.core.display.HTML object>"
      ]
     },
     "metadata": {},
     "output_type": "display_data"
    },
    {
     "data": {
      "text/html": [
       "Run data is saved locally in <code>d:\\Programming\\Python\\Trash Classification\\wandb\\run-20241027_001242-3us1ssr1</code>"
      ],
      "text/plain": [
       "<IPython.core.display.HTML object>"
      ]
     },
     "metadata": {},
     "output_type": "display_data"
    },
    {
     "data": {
      "text/html": [
       "Syncing run <strong><a href='https://wandb.ai/bugi-sulistiyo-universitas-mulawarman/trash-classification/runs/3us1ssr1' target=\"_blank\">electric-water-4</a></strong> to <a href='https://wandb.ai/bugi-sulistiyo-universitas-mulawarman/trash-classification' target=\"_blank\">Weights & Biases</a> (<a href='https://wandb.me/run' target=\"_blank\">docs</a>)<br/>"
      ],
      "text/plain": [
       "<IPython.core.display.HTML object>"
      ]
     },
     "metadata": {},
     "output_type": "display_data"
    },
    {
     "data": {
      "text/html": [
       " View project at <a href='https://wandb.ai/bugi-sulistiyo-universitas-mulawarman/trash-classification' target=\"_blank\">https://wandb.ai/bugi-sulistiyo-universitas-mulawarman/trash-classification</a>"
      ],
      "text/plain": [
       "<IPython.core.display.HTML object>"
      ]
     },
     "metadata": {},
     "output_type": "display_data"
    },
    {
     "data": {
      "text/html": [
       " View run at <a href='https://wandb.ai/bugi-sulistiyo-universitas-mulawarman/trash-classification/runs/3us1ssr1' target=\"_blank\">https://wandb.ai/bugi-sulistiyo-universitas-mulawarman/trash-classification/runs/3us1ssr1</a>"
      ],
      "text/plain": [
       "<IPython.core.display.HTML object>"
      ]
     },
     "metadata": {},
     "output_type": "display_data"
    }
   ],
   "source": [
    "wandb.init(project=\"trash-classification\", config=hyperparameters)\n",
    "config = wandb.config"
   ]
  },
  {
   "cell_type": "code",
   "execution_count": 19,
   "metadata": {},
   "outputs": [
    {
     "name": "stdout",
     "output_type": "stream",
     "text": [
      "WARNING:tensorflow:From c:\\Users\\Bugi\\miniconda3\\envs\\modeling\\lib\\site-packages\\keras\\src\\backend.py:873: The name tf.get_default_graph is deprecated. Please use tf.compat.v1.get_default_graph instead.\n",
      "\n",
      "WARNING:tensorflow:From c:\\Users\\Bugi\\miniconda3\\envs\\modeling\\lib\\site-packages\\keras\\src\\layers\\pooling\\max_pooling2d.py:161: The name tf.nn.max_pool is deprecated. Please use tf.nn.max_pool2d instead.\n",
      "\n"
     ]
    }
   ],
   "source": [
    "model = Sequential([\n",
    "    Conv2D(16, (3, 3), activation=\"relu\", input_shape=(config.image_size[0], config.image_size[1], 3)),\n",
    "    BatchNormalization(),\n",
    "    MaxPool2D((2, 2)),\n",
    "    Flatten(),\n",
    "    Dense(128, activation=\"relu\"),\n",
    "    Dense(len(path_imgs_train.label.unique()), activation=\"softmax\")\n",
    "])"
   ]
  },
  {
   "cell_type": "code",
   "execution_count": 20,
   "metadata": {},
   "outputs": [],
   "source": [
    "model.compile(\n",
    "    optimizer=optimizer_map[config.optimizer],\n",
    "    loss=config.loss,\n",
    "    metrics=config.metrics\n",
    ")"
   ]
  },
  {
   "cell_type": "code",
   "execution_count": 21,
   "metadata": {},
   "outputs": [],
   "source": [
    "class CustomWandbCallback(Callback):\n",
    "    def on_epoch_end(self, epoch, logs=None):\n",
    "        wandb.log(logs)"
   ]
  },
  {
   "cell_type": "code",
   "execution_count": 22,
   "metadata": {},
   "outputs": [
    {
     "name": "stdout",
     "output_type": "stream",
     "text": [
      "Epoch 1/10\n",
      "WARNING:tensorflow:From c:\\Users\\Bugi\\miniconda3\\envs\\modeling\\lib\\site-packages\\keras\\src\\utils\\tf_utils.py:492: The name tf.ragged.RaggedTensorValue is deprecated. Please use tf.compat.v1.ragged.RaggedTensorValue instead.\n",
      "\n",
      "WARNING:tensorflow:From c:\\Users\\Bugi\\miniconda3\\envs\\modeling\\lib\\site-packages\\keras\\src\\engine\\base_layer_utils.py:384: The name tf.executing_eagerly_outside_functions is deprecated. Please use tf.compat.v1.executing_eagerly_outside_functions instead.\n",
      "\n",
      "64/64 [==============================] - 163s 1s/step - loss: 3.9693 - accuracy: 0.4602 - val_loss: 2.0383 - val_accuracy: 0.2411\n",
      "Epoch 2/10\n",
      "64/64 [==============================] - 151s 944ms/step - loss: 1.0848 - accuracy: 0.6714 - val_loss: 1.6427 - val_accuracy: 0.2787\n",
      "Epoch 3/10\n",
      "64/64 [==============================] - 121s 896ms/step - loss: 0.6055 - accuracy: 0.8001 - val_loss: 1.4798 - val_accuracy: 0.3696\n",
      "Epoch 4/10\n",
      "64/64 [==============================] - 134s 1s/step - loss: 0.2844 - accuracy: 0.9040 - val_loss: 1.4495 - val_accuracy: 0.3557\n",
      "Epoch 5/10\n",
      "64/64 [==============================] - 101s 693ms/step - loss: 0.1752 - accuracy: 0.9441 - val_loss: 1.1859 - val_accuracy: 0.5632\n",
      "Epoch 6/10\n",
      "64/64 [==============================] - 95s 772ms/step - loss: 0.1264 - accuracy: 0.9659 - val_loss: 1.3197 - val_accuracy: 0.4625\n",
      "Epoch 7/10\n",
      "64/64 [==============================] - 84s 632ms/step - loss: 0.0742 - accuracy: 0.9837 - val_loss: 1.3366 - val_accuracy: 0.5573\n",
      "Epoch 8/10\n",
      "64/64 [==============================] - 79s 608ms/step - loss: 0.0548 - accuracy: 0.9881 - val_loss: 1.2378 - val_accuracy: 0.6126\n",
      "Epoch 9/10\n",
      "64/64 [==============================] - 78s 607ms/step - loss: 0.0260 - accuracy: 0.9946 - val_loss: 1.3785 - val_accuracy: 0.5949\n",
      "Epoch 10/10\n",
      "64/64 [==============================] - 79s 610ms/step - loss: 0.0165 - accuracy: 0.9960 - val_loss: 1.5867 - val_accuracy: 0.6186\n"
     ]
    },
    {
     "data": {
      "text/plain": [
       "<keras.src.callbacks.History at 0x2be259fb820>"
      ]
     },
     "execution_count": 22,
     "metadata": {},
     "output_type": "execute_result"
    }
   ],
   "source": [
    "model.fit(\n",
    "    trainset,\n",
    "    validation_data=testset,\n",
    "    epochs=config.epochs,\n",
    "    callbacks=[CustomWandbCallback()]\n",
    ")"
   ]
  },
  {
   "cell_type": "code",
   "execution_count": 23,
   "metadata": {},
   "outputs": [
    {
     "name": "stderr",
     "output_type": "stream",
     "text": [
      "c:\\Users\\Bugi\\miniconda3\\envs\\modeling\\lib\\site-packages\\keras\\src\\engine\\training.py:3103: UserWarning: You are saving your model as an HDF5 file via `model.save()`. This file format is considered legacy. We recommend using instead the native Keras format, e.g. `model.save('my_model.keras')`.\n",
      "  saving_api.save_model(\n"
     ]
    },
    {
     "data": {
      "text/plain": [
       "<Artifact run-3us1ssr1-vanila_cnn.h5>"
      ]
     },
     "execution_count": 23,
     "metadata": {},
     "output_type": "execute_result"
    }
   ],
   "source": [
    "model.save(\"model/vanila_cnn.h5\")\n",
    "wandb.log_artifact(\"model/vanila_cnn.h5\", type=\"model\")"
   ]
  },
  {
   "cell_type": "code",
   "execution_count": 24,
   "metadata": {},
   "outputs": [
    {
     "data": {
      "text/html": [
       "<style>\n",
       "    table.wandb td:nth-child(1) { padding: 0 10px; text-align: left ; width: auto;} td:nth-child(2) {text-align: left ; width: 100%}\n",
       "    .wandb-row { display: flex; flex-direction: row; flex-wrap: wrap; justify-content: flex-start; width: 100% }\n",
       "    .wandb-col { display: flex; flex-direction: column; flex-basis: 100%; flex: 1; padding: 10px; }\n",
       "    </style>\n",
       "<div class=\"wandb-row\"><div class=\"wandb-col\"><h3>Run history:</h3><br/><table class=\"wandb\"><tr><td>accuracy</td><td>▁▄▅▇▇█████</td></tr><tr><td>loss</td><td>█▃▂▁▁▁▁▁▁▁</td></tr><tr><td>val_accuracy</td><td>▁▂▃▃▇▅▇███</td></tr><tr><td>val_loss</td><td>█▅▃▃▁▂▂▁▃▄</td></tr></table><br/></div><div class=\"wandb-col\"><h3>Run summary:</h3><br/><table class=\"wandb\"><tr><td>accuracy</td><td>0.99604</td></tr><tr><td>loss</td><td>0.01647</td></tr><tr><td>val_accuracy</td><td>0.61858</td></tr><tr><td>val_loss</td><td>1.58671</td></tr></table><br/></div></div>"
      ],
      "text/plain": [
       "<IPython.core.display.HTML object>"
      ]
     },
     "metadata": {},
     "output_type": "display_data"
    },
    {
     "data": {
      "text/html": [
       " View run <strong style=\"color:#cdcd00\">electric-water-4</strong> at: <a href='https://wandb.ai/bugi-sulistiyo-universitas-mulawarman/trash-classification/runs/3us1ssr1' target=\"_blank\">https://wandb.ai/bugi-sulistiyo-universitas-mulawarman/trash-classification/runs/3us1ssr1</a><br/> View project at: <a href='https://wandb.ai/bugi-sulistiyo-universitas-mulawarman/trash-classification' target=\"_blank\">https://wandb.ai/bugi-sulistiyo-universitas-mulawarman/trash-classification</a><br/>Synced 5 W&B file(s), 0 media file(s), 4 artifact file(s) and 0 other file(s)"
      ],
      "text/plain": [
       "<IPython.core.display.HTML object>"
      ]
     },
     "metadata": {},
     "output_type": "display_data"
    },
    {
     "data": {
      "text/html": [
       "Find logs at: <code>.\\wandb\\run-20241027_001242-3us1ssr1\\logs</code>"
      ],
      "text/plain": [
       "<IPython.core.display.HTML object>"
      ]
     },
     "metadata": {},
     "output_type": "display_data"
    }
   ],
   "source": [
    "wandb.finish()"
   ]
  },
  {
   "cell_type": "code",
   "execution_count": 41,
   "metadata": {},
   "outputs": [],
   "source": [
    "api = HfApi()"
   ]
  },
  {
   "cell_type": "code",
   "execution_count": 47,
   "metadata": {},
   "outputs": [],
   "source": [
    "repo = api.create_repo(\"trash-classification\", repo_type=\"model\", exist_ok=True)"
   ]
  },
  {
   "cell_type": "code",
   "execution_count": 46,
   "metadata": {},
   "outputs": [
    {
     "name": "stderr",
     "output_type": "stream",
     "text": [
      "vanila_cnn.h5: 100%|██████████| 97.6M/97.6M [01:00<00:00, 1.61MB/s]\n"
     ]
    },
    {
     "data": {
      "text/plain": [
       "CommitInfo(commit_url='https://huggingface.co/bugi-sulistiyo/trash-classification/commit/fec199e558ec0950ce934132bdd90aeb34c24a59', commit_message='Add model vanila_cnn.h5 (initial commit)', commit_description='', oid='fec199e558ec0950ce934132bdd90aeb34c24a59', pr_url=None, repo_url=RepoUrl('https://huggingface.co/bugi-sulistiyo/trash-classification', endpoint='https://huggingface.co', repo_type='model', repo_id='bugi-sulistiyo/trash-classification'), pr_revision=None, pr_num=None)"
      ]
     },
     "execution_count": 46,
     "metadata": {},
     "output_type": "execute_result"
    }
   ],
   "source": [
    "api.upload_file(\n",
    "    repo_id=repo.repo_id,\n",
    "    path_or_fileobj=\"model/vanila_cnn.h5\",\n",
    "    path_in_repo=\"model/vanila_cnn.h5\",\n",
    "    repo_type=repo.repo_type,\n",
    "    commit_message=\"Add model vanila_cnn.h5 (initial commit)\"\n",
    ")"
   ]
  }
 ],
 "metadata": {
  "kernelspec": {
   "display_name": "modeling",
   "language": "python",
   "name": "python3"
  },
  "language_info": {
   "codemirror_mode": {
    "name": "ipython",
    "version": 3
   },
   "file_extension": ".py",
   "mimetype": "text/x-python",
   "name": "python",
   "nbconvert_exporter": "python",
   "pygments_lexer": "ipython3",
   "version": "3.10.14"
  }
 },
 "nbformat": 4,
 "nbformat_minor": 2
}
